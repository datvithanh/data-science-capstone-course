{
 "cells": [
  {
   "cell_type": "code",
   "execution_count": 10,
   "metadata": {},
   "outputs": [],
   "source": [
    "import json\n",
    "import requests\n",
    "import pandas as pd"
   ]
  },
  {
   "cell_type": "code",
   "execution_count": 44,
   "metadata": {},
   "outputs": [],
   "source": [
    "config = json.load(open('config.json'))\n",
    "CLIENT_ID = config['client_id']\n",
    "CLIENT_SECRET = config['client_secret']\n",
    "VERSION = config['version']\n",
    "\n",
    "def getNearbyVenues(names, latitudes, longitudes, radius=15000):\n",
    "    \n",
    "    venues_list=[]\n",
    "    for name, lat, lng in zip(names, latitudes, longitudes):\n",
    "        print(name)\n",
    "            \n",
    "        # create the API request URL\n",
    "        url = 'https://api.foursquare.com/v2/venues/explore?&client_id={}&client_secret={}&v={}&ll={},{}&radius={}'.format(\n",
    "            CLIENT_ID, \n",
    "            CLIENT_SECRET, \n",
    "            VERSION, \n",
    "            lat, \n",
    "            lng, \n",
    "            radius)\n",
    "            \n",
    "        # make the GET request\n",
    "        results = requests.get(url).json()[\"response\"]['groups'][0]['items']\n",
    "        \n",
    "        # return only relevant information for each nearby venue\n",
    "        print(len(results))\n",
    "        results = filter(lambda x: 'search' in x['venue']['location'].keys(),results)\n",
    "        venues_list.append([(\n",
    "            name, \n",
    "            lat, \n",
    "            lng, \n",
    "            v['venue']['name'], \n",
    "            v['venue']['location']['lat'], \n",
    "            v['venue']['location']['lng'],\n",
    "            v['venue']['location']['address'],\n",
    "            v['venue']['categories'][0]['name']) for v in results])\n",
    "#     nearby_venues = pd.DataFrame([item for venue_list in venues_list for item in venue_list])\n",
    "#     nearby_venues.columns = ['Neighborhood', \n",
    "#                   'Neighborhood Latitude', \n",
    "#                   'Neighborhood Longitude', \n",
    "#                   'Venue', \n",
    "#                   'Venue Latitude', \n",
    "#                   'Venue Longitude', \n",
    "#                   'Venue Address',  \n",
    "#                   'Venue Category']\n",
    "    \n",
    "#     return(nearby_venues)"
   ]
  },
  {
   "cell_type": "code",
   "execution_count": 45,
   "metadata": {},
   "outputs": [
    {
     "name": "stdout",
     "output_type": "stream",
     "text": [
      "Hanoi\n",
      "30\n",
      "[[]]\n"
     ]
    }
   ],
   "source": [
    "hanoi_venues = getNearbyVenues(names=['Hanoi'],\n",
    "                                   latitudes=[21.0333],\n",
    "                                   longitudes=[105.85]\n",
    "                                  )"
   ]
  },
  {
   "cell_type": "code",
   "execution_count": 14,
   "metadata": {},
   "outputs": [
    {
     "data": {
      "text/plain": [
       "100"
      ]
     },
     "execution_count": 14,
     "metadata": {},
     "output_type": "execute_result"
    }
   ],
   "source": [
    "len(hanoi_venues)"
   ]
  },
  {
   "cell_type": "code",
   "execution_count": null,
   "metadata": {},
   "outputs": [],
   "source": []
  }
 ],
 "metadata": {
  "kernelspec": {
   "display_name": "Python 3",
   "language": "python",
   "name": "python3"
  },
  "language_info": {
   "codemirror_mode": {
    "name": "ipython",
    "version": 3
   },
   "file_extension": ".py",
   "mimetype": "text/x-python",
   "name": "python",
   "nbconvert_exporter": "python",
   "pygments_lexer": "ipython3",
   "version": "3.6.6"
  }
 },
 "nbformat": 4,
 "nbformat_minor": 2
}
