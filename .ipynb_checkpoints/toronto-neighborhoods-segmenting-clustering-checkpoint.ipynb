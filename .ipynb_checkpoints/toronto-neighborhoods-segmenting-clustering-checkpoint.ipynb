{
 "cells": [
  {
   "cell_type": "code",
   "execution_count": 60,
   "metadata": {},
   "outputs": [],
   "source": [
    "from requests import get\n",
    "from bs4 import BeautifulSoup\n",
    "from parsel import Selector\n",
    "import pandas as pd\n",
    "import numpy as np"
   ]
  },
  {
   "cell_type": "markdown",
   "metadata": {},
   "source": [
    "# Send get request and get response from wikipedia"
   ]
  },
  {
   "cell_type": "code",
   "execution_count": 64,
   "metadata": {},
   "outputs": [],
   "source": [
    "url = 'https://en.wikipedia.org/wiki/List_of_postal_codes_of_Canada:_M'\n",
    "response = get(url)\n",
    "\n",
    "\n",
    "# table = [x.replace('\\n', '') for x in table if x != '\\n']\n",
    "# table = np.reshape(table, (289,3))\n",
    "# table = [x for x in table if x[1] != 'Not assigned']\n",
    "\n",
    "# df = pd.DataFrame(table, columns=['PostalCode', 'Borough', 'Neighborhood'])\n",
    "# df.shape"
   ]
  },
  {
   "cell_type": "markdown",
   "metadata": {},
   "source": [
    "# Use Selector and xpath to extract data from response html"
   ]
  },
  {
   "cell_type": "code",
   "execution_count": null,
   "metadata": {},
   "outputs": [],
   "source": [
    "sel = Selector(response.text)\n",
    "table = sel.xpath(\"//table[contains(@class,'wikitable')]/tbody/tr/td/text() | //table[contains(@class,'wikitable')]/tbody/tr/td/a/text()\").extract()"
   ]
  }
 ],
 "metadata": {
  "kernelspec": {
   "display_name": "Python 3",
   "language": "python",
   "name": "python3"
  },
  "language_info": {
   "codemirror_mode": {
    "name": "ipython",
    "version": 3
   },
   "file_extension": ".py",
   "mimetype": "text/x-python",
   "name": "python",
   "nbconvert_exporter": "python",
   "pygments_lexer": "ipython3",
   "version": "3.6.6"
  }
 },
 "nbformat": 4,
 "nbformat_minor": 2
}
